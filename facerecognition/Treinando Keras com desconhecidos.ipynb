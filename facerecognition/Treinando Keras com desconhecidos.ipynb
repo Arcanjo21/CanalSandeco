{
 "cells": [
  {
   "cell_type": "code",
   "execution_count": 1,
   "metadata": {},
   "outputs": [],
   "source": [
    "import numpy as np\n",
    "import pandas as pd\n",
    "\n",
    "import matplotlib.pyplot as plt\n",
    "%matplotlib inline"
   ]
  },
  {
   "cell_type": "markdown",
   "metadata": {},
   "source": [
    "## TRAIN"
   ]
  },
  {
   "cell_type": "code",
   "execution_count": 2,
   "metadata": {},
   "outputs": [],
   "source": [
    "df_desconhecidos = pd.read_csv(\"faces_desconhecidos.csv\")"
   ]
  },
  {
   "cell_type": "code",
   "execution_count": 3,
   "metadata": {},
   "outputs": [],
   "source": [
    "df_conhecidos = pd.read_csv(\"faces.csv\")"
   ]
  },
  {
   "cell_type": "code",
   "execution_count": 4,
   "metadata": {},
   "outputs": [],
   "source": [
    "df = pd.concat([df_desconhecidos, df_conhecidos])"
   ]
  },
  {
   "cell_type": "code",
   "execution_count": 5,
   "metadata": {},
   "outputs": [
    {
     "data": {
      "text/html": [
       "<div>\n",
       "<style scoped>\n",
       "    .dataframe tbody tr th:only-of-type {\n",
       "        vertical-align: middle;\n",
       "    }\n",
       "\n",
       "    .dataframe tbody tr th {\n",
       "        vertical-align: top;\n",
       "    }\n",
       "\n",
       "    .dataframe thead th {\n",
       "        text-align: right;\n",
       "    }\n",
       "</style>\n",
       "<table border=\"1\" class=\"dataframe\">\n",
       "  <thead>\n",
       "    <tr style=\"text-align: right;\">\n",
       "      <th></th>\n",
       "      <th>0</th>\n",
       "      <th>1</th>\n",
       "      <th>2</th>\n",
       "      <th>3</th>\n",
       "      <th>4</th>\n",
       "      <th>5</th>\n",
       "      <th>6</th>\n",
       "      <th>7</th>\n",
       "      <th>8</th>\n",
       "      <th>9</th>\n",
       "      <th>...</th>\n",
       "      <th>119</th>\n",
       "      <th>120</th>\n",
       "      <th>121</th>\n",
       "      <th>122</th>\n",
       "      <th>123</th>\n",
       "      <th>124</th>\n",
       "      <th>125</th>\n",
       "      <th>126</th>\n",
       "      <th>127</th>\n",
       "      <th>target</th>\n",
       "    </tr>\n",
       "  </thead>\n",
       "  <tbody>\n",
       "    <tr>\n",
       "      <th>0</th>\n",
       "      <td>-0.028100</td>\n",
       "      <td>1.874009</td>\n",
       "      <td>0.975083</td>\n",
       "      <td>0.602640</td>\n",
       "      <td>0.651621</td>\n",
       "      <td>0.387701</td>\n",
       "      <td>0.754534</td>\n",
       "      <td>0.255482</td>\n",
       "      <td>0.570138</td>\n",
       "      <td>0.232678</td>\n",
       "      <td>...</td>\n",
       "      <td>0.000564</td>\n",
       "      <td>-1.750562</td>\n",
       "      <td>-0.740965</td>\n",
       "      <td>-1.333565</td>\n",
       "      <td>0.424362</td>\n",
       "      <td>1.464125</td>\n",
       "      <td>0.441541</td>\n",
       "      <td>0.117519</td>\n",
       "      <td>0.773804</td>\n",
       "      <td>desconhecidos</td>\n",
       "    </tr>\n",
       "    <tr>\n",
       "      <th>1</th>\n",
       "      <td>0.281798</td>\n",
       "      <td>0.222542</td>\n",
       "      <td>-0.637775</td>\n",
       "      <td>-1.389234</td>\n",
       "      <td>-0.944202</td>\n",
       "      <td>1.170996</td>\n",
       "      <td>-2.149016</td>\n",
       "      <td>0.207373</td>\n",
       "      <td>1.258633</td>\n",
       "      <td>1.118211</td>\n",
       "      <td>...</td>\n",
       "      <td>-2.077074</td>\n",
       "      <td>0.061272</td>\n",
       "      <td>0.858069</td>\n",
       "      <td>-0.620240</td>\n",
       "      <td>-0.448048</td>\n",
       "      <td>0.659152</td>\n",
       "      <td>-0.578539</td>\n",
       "      <td>0.022662</td>\n",
       "      <td>-1.110150</td>\n",
       "      <td>desconhecidos</td>\n",
       "    </tr>\n",
       "    <tr>\n",
       "      <th>2</th>\n",
       "      <td>-0.469598</td>\n",
       "      <td>-0.438383</td>\n",
       "      <td>1.035088</td>\n",
       "      <td>0.419017</td>\n",
       "      <td>-2.502093</td>\n",
       "      <td>1.199449</td>\n",
       "      <td>1.220177</td>\n",
       "      <td>-0.849276</td>\n",
       "      <td>-2.125674</td>\n",
       "      <td>0.487827</td>\n",
       "      <td>...</td>\n",
       "      <td>-0.075716</td>\n",
       "      <td>-0.870743</td>\n",
       "      <td>-0.749646</td>\n",
       "      <td>-0.024553</td>\n",
       "      <td>0.895486</td>\n",
       "      <td>-0.095862</td>\n",
       "      <td>1.756820</td>\n",
       "      <td>-0.284382</td>\n",
       "      <td>1.243302</td>\n",
       "      <td>desconhecidos</td>\n",
       "    </tr>\n",
       "    <tr>\n",
       "      <th>3</th>\n",
       "      <td>-0.019212</td>\n",
       "      <td>0.063674</td>\n",
       "      <td>0.368226</td>\n",
       "      <td>-0.734526</td>\n",
       "      <td>-1.221279</td>\n",
       "      <td>-1.026126</td>\n",
       "      <td>2.541132</td>\n",
       "      <td>-0.602338</td>\n",
       "      <td>0.804724</td>\n",
       "      <td>-1.249530</td>\n",
       "      <td>...</td>\n",
       "      <td>-1.705541</td>\n",
       "      <td>1.118912</td>\n",
       "      <td>0.027196</td>\n",
       "      <td>0.776124</td>\n",
       "      <td>0.068407</td>\n",
       "      <td>-0.755236</td>\n",
       "      <td>-0.928870</td>\n",
       "      <td>-2.261591</td>\n",
       "      <td>-1.204839</td>\n",
       "      <td>desconhecidos</td>\n",
       "    </tr>\n",
       "    <tr>\n",
       "      <th>4</th>\n",
       "      <td>0.792076</td>\n",
       "      <td>-1.098803</td>\n",
       "      <td>-1.363440</td>\n",
       "      <td>-0.442606</td>\n",
       "      <td>-1.206599</td>\n",
       "      <td>0.595012</td>\n",
       "      <td>-0.013578</td>\n",
       "      <td>0.476706</td>\n",
       "      <td>-1.628913</td>\n",
       "      <td>-0.248366</td>\n",
       "      <td>...</td>\n",
       "      <td>-1.437911</td>\n",
       "      <td>0.343600</td>\n",
       "      <td>1.075108</td>\n",
       "      <td>0.339993</td>\n",
       "      <td>0.843487</td>\n",
       "      <td>0.041740</td>\n",
       "      <td>1.926534</td>\n",
       "      <td>-0.437672</td>\n",
       "      <td>0.653635</td>\n",
       "      <td>desconhecidos</td>\n",
       "    </tr>\n",
       "    <tr>\n",
       "      <th>...</th>\n",
       "      <td>...</td>\n",
       "      <td>...</td>\n",
       "      <td>...</td>\n",
       "      <td>...</td>\n",
       "      <td>...</td>\n",
       "      <td>...</td>\n",
       "      <td>...</td>\n",
       "      <td>...</td>\n",
       "      <td>...</td>\n",
       "      <td>...</td>\n",
       "      <td>...</td>\n",
       "      <td>...</td>\n",
       "      <td>...</td>\n",
       "      <td>...</td>\n",
       "      <td>...</td>\n",
       "      <td>...</td>\n",
       "      <td>...</td>\n",
       "      <td>...</td>\n",
       "      <td>...</td>\n",
       "      <td>...</td>\n",
       "      <td>...</td>\n",
       "    </tr>\n",
       "    <tr>\n",
       "      <th>737</th>\n",
       "      <td>0.588910</td>\n",
       "      <td>0.361084</td>\n",
       "      <td>0.012566</td>\n",
       "      <td>-0.197213</td>\n",
       "      <td>1.255946</td>\n",
       "      <td>-0.736539</td>\n",
       "      <td>1.375485</td>\n",
       "      <td>-1.082598</td>\n",
       "      <td>-0.736240</td>\n",
       "      <td>0.979192</td>\n",
       "      <td>...</td>\n",
       "      <td>-2.016208</td>\n",
       "      <td>2.359462</td>\n",
       "      <td>1.672926</td>\n",
       "      <td>1.523849</td>\n",
       "      <td>-1.695331</td>\n",
       "      <td>-0.579944</td>\n",
       "      <td>-1.463620</td>\n",
       "      <td>-0.273856</td>\n",
       "      <td>-0.077989</td>\n",
       "      <td>sandeco</td>\n",
       "    </tr>\n",
       "    <tr>\n",
       "      <th>738</th>\n",
       "      <td>0.279390</td>\n",
       "      <td>-0.631681</td>\n",
       "      <td>0.529013</td>\n",
       "      <td>0.322209</td>\n",
       "      <td>0.741457</td>\n",
       "      <td>-1.208276</td>\n",
       "      <td>0.574493</td>\n",
       "      <td>-1.422432</td>\n",
       "      <td>-0.647154</td>\n",
       "      <td>0.656584</td>\n",
       "      <td>...</td>\n",
       "      <td>-2.191542</td>\n",
       "      <td>1.913249</td>\n",
       "      <td>0.485100</td>\n",
       "      <td>0.890981</td>\n",
       "      <td>-0.898901</td>\n",
       "      <td>0.278784</td>\n",
       "      <td>-0.330889</td>\n",
       "      <td>-0.117583</td>\n",
       "      <td>-0.448477</td>\n",
       "      <td>sandeco</td>\n",
       "    </tr>\n",
       "    <tr>\n",
       "      <th>739</th>\n",
       "      <td>0.459297</td>\n",
       "      <td>-0.965061</td>\n",
       "      <td>-0.285542</td>\n",
       "      <td>0.726998</td>\n",
       "      <td>1.004078</td>\n",
       "      <td>0.559699</td>\n",
       "      <td>2.052253</td>\n",
       "      <td>-0.635242</td>\n",
       "      <td>-0.491427</td>\n",
       "      <td>1.681205</td>\n",
       "      <td>...</td>\n",
       "      <td>-0.842883</td>\n",
       "      <td>2.727129</td>\n",
       "      <td>-0.202562</td>\n",
       "      <td>-0.404566</td>\n",
       "      <td>-0.809246</td>\n",
       "      <td>0.149799</td>\n",
       "      <td>-1.954735</td>\n",
       "      <td>-0.539354</td>\n",
       "      <td>-0.742241</td>\n",
       "      <td>sandeco</td>\n",
       "    </tr>\n",
       "    <tr>\n",
       "      <th>740</th>\n",
       "      <td>0.723891</td>\n",
       "      <td>-0.439264</td>\n",
       "      <td>-0.245565</td>\n",
       "      <td>-0.074947</td>\n",
       "      <td>0.334989</td>\n",
       "      <td>-0.278425</td>\n",
       "      <td>1.452018</td>\n",
       "      <td>-0.042754</td>\n",
       "      <td>-0.841918</td>\n",
       "      <td>1.394581</td>\n",
       "      <td>...</td>\n",
       "      <td>0.059598</td>\n",
       "      <td>1.547364</td>\n",
       "      <td>-0.224165</td>\n",
       "      <td>-1.124514</td>\n",
       "      <td>0.630465</td>\n",
       "      <td>-0.158258</td>\n",
       "      <td>-0.599097</td>\n",
       "      <td>-0.549221</td>\n",
       "      <td>-1.407454</td>\n",
       "      <td>sandeco</td>\n",
       "    </tr>\n",
       "    <tr>\n",
       "      <th>741</th>\n",
       "      <td>0.725582</td>\n",
       "      <td>-0.725078</td>\n",
       "      <td>-0.105913</td>\n",
       "      <td>-0.160040</td>\n",
       "      <td>0.326055</td>\n",
       "      <td>-0.378329</td>\n",
       "      <td>1.485172</td>\n",
       "      <td>-0.108667</td>\n",
       "      <td>-0.972127</td>\n",
       "      <td>1.019545</td>\n",
       "      <td>...</td>\n",
       "      <td>0.012962</td>\n",
       "      <td>1.599133</td>\n",
       "      <td>-0.123810</td>\n",
       "      <td>-1.183666</td>\n",
       "      <td>0.464192</td>\n",
       "      <td>-0.394024</td>\n",
       "      <td>-0.432752</td>\n",
       "      <td>-0.882478</td>\n",
       "      <td>-1.217492</td>\n",
       "      <td>sandeco</td>\n",
       "    </tr>\n",
       "  </tbody>\n",
       "</table>\n",
       "<p>29775 rows × 129 columns</p>\n",
       "</div>"
      ],
      "text/plain": [
       "            0         1         2         3         4         5         6  \\\n",
       "0   -0.028100  1.874009  0.975083  0.602640  0.651621  0.387701  0.754534   \n",
       "1    0.281798  0.222542 -0.637775 -1.389234 -0.944202  1.170996 -2.149016   \n",
       "2   -0.469598 -0.438383  1.035088  0.419017 -2.502093  1.199449  1.220177   \n",
       "3   -0.019212  0.063674  0.368226 -0.734526 -1.221279 -1.026126  2.541132   \n",
       "4    0.792076 -1.098803 -1.363440 -0.442606 -1.206599  0.595012 -0.013578   \n",
       "..        ...       ...       ...       ...       ...       ...       ...   \n",
       "737  0.588910  0.361084  0.012566 -0.197213  1.255946 -0.736539  1.375485   \n",
       "738  0.279390 -0.631681  0.529013  0.322209  0.741457 -1.208276  0.574493   \n",
       "739  0.459297 -0.965061 -0.285542  0.726998  1.004078  0.559699  2.052253   \n",
       "740  0.723891 -0.439264 -0.245565 -0.074947  0.334989 -0.278425  1.452018   \n",
       "741  0.725582 -0.725078 -0.105913 -0.160040  0.326055 -0.378329  1.485172   \n",
       "\n",
       "            7         8         9  ...       119       120       121  \\\n",
       "0    0.255482  0.570138  0.232678  ...  0.000564 -1.750562 -0.740965   \n",
       "1    0.207373  1.258633  1.118211  ... -2.077074  0.061272  0.858069   \n",
       "2   -0.849276 -2.125674  0.487827  ... -0.075716 -0.870743 -0.749646   \n",
       "3   -0.602338  0.804724 -1.249530  ... -1.705541  1.118912  0.027196   \n",
       "4    0.476706 -1.628913 -0.248366  ... -1.437911  0.343600  1.075108   \n",
       "..        ...       ...       ...  ...       ...       ...       ...   \n",
       "737 -1.082598 -0.736240  0.979192  ... -2.016208  2.359462  1.672926   \n",
       "738 -1.422432 -0.647154  0.656584  ... -2.191542  1.913249  0.485100   \n",
       "739 -0.635242 -0.491427  1.681205  ... -0.842883  2.727129 -0.202562   \n",
       "740 -0.042754 -0.841918  1.394581  ...  0.059598  1.547364 -0.224165   \n",
       "741 -0.108667 -0.972127  1.019545  ...  0.012962  1.599133 -0.123810   \n",
       "\n",
       "          122       123       124       125       126       127         target  \n",
       "0   -1.333565  0.424362  1.464125  0.441541  0.117519  0.773804  desconhecidos  \n",
       "1   -0.620240 -0.448048  0.659152 -0.578539  0.022662 -1.110150  desconhecidos  \n",
       "2   -0.024553  0.895486 -0.095862  1.756820 -0.284382  1.243302  desconhecidos  \n",
       "3    0.776124  0.068407 -0.755236 -0.928870 -2.261591 -1.204839  desconhecidos  \n",
       "4    0.339993  0.843487  0.041740  1.926534 -0.437672  0.653635  desconhecidos  \n",
       "..        ...       ...       ...       ...       ...       ...            ...  \n",
       "737  1.523849 -1.695331 -0.579944 -1.463620 -0.273856 -0.077989        sandeco  \n",
       "738  0.890981 -0.898901  0.278784 -0.330889 -0.117583 -0.448477        sandeco  \n",
       "739 -0.404566 -0.809246  0.149799 -1.954735 -0.539354 -0.742241        sandeco  \n",
       "740 -1.124514  0.630465 -0.158258 -0.599097 -0.549221 -1.407454        sandeco  \n",
       "741 -1.183666  0.464192 -0.394024 -0.432752 -0.882478 -1.217492        sandeco  \n",
       "\n",
       "[29775 rows x 129 columns]"
      ]
     },
     "execution_count": 5,
     "metadata": {},
     "output_type": "execute_result"
    }
   ],
   "source": [
    "df"
   ]
  },
  {
   "cell_type": "code",
   "execution_count": 6,
   "metadata": {},
   "outputs": [],
   "source": [
    "X = np.array(df.drop(\"target\", axis=1))\n",
    "y = np.array(df.target)"
   ]
  },
  {
   "cell_type": "code",
   "execution_count": 7,
   "metadata": {},
   "outputs": [
    {
     "data": {
      "text/plain": [
       "array([[-0.02810006,  1.874009  ,  0.9750827 , ...,  0.44154063,\n",
       "         0.11751907,  0.7738039 ],\n",
       "       [ 0.28179818,  0.22254208, -0.63777477, ..., -0.57853884,\n",
       "         0.02266233, -1.1101495 ],\n",
       "       [-0.4695979 , -0.4383834 ,  1.0350882 , ...,  1.7568198 ,\n",
       "        -0.28438193,  1.2433019 ],\n",
       "       ...,\n",
       "       [ 0.45929727, -0.9650612 , -0.28554234, ..., -1.9547353 ,\n",
       "        -0.5393536 , -0.7422413 ],\n",
       "       [ 0.72389114, -0.43926418, -0.24556531, ..., -0.5990966 ,\n",
       "        -0.5492207 , -1.4074541 ],\n",
       "       [ 0.72558177, -0.72507775, -0.10591349, ..., -0.43275157,\n",
       "        -0.8824783 , -1.2174921 ]])"
      ]
     },
     "execution_count": 7,
     "metadata": {},
     "output_type": "execute_result"
    }
   ],
   "source": [
    "X"
   ]
  },
  {
   "cell_type": "code",
   "execution_count": 8,
   "metadata": {},
   "outputs": [
    {
     "data": {
      "text/plain": [
       "array(['desconhecidos', 'desconhecidos', 'desconhecidos', ..., 'sandeco',\n",
       "       'sandeco', 'sandeco'], dtype=object)"
      ]
     },
     "execution_count": 8,
     "metadata": {},
     "output_type": "execute_result"
    }
   ],
   "source": [
    "y"
   ]
  },
  {
   "cell_type": "code",
   "execution_count": 9,
   "metadata": {},
   "outputs": [
    {
     "name": "stdout",
     "output_type": "stream",
     "text": [
      "(29775, 128)\n",
      "(29775,)\n"
     ]
    }
   ],
   "source": [
    "print(X.shape)\n",
    "print(y.shape)"
   ]
  },
  {
   "cell_type": "markdown",
   "metadata": {},
   "source": [
    "## MISTURANDO TUDO"
   ]
  },
  {
   "cell_type": "code",
   "execution_count": 10,
   "metadata": {},
   "outputs": [],
   "source": [
    "from sklearn.utils import shuffle"
   ]
  },
  {
   "cell_type": "code",
   "execution_count": 11,
   "metadata": {},
   "outputs": [],
   "source": [
    "X, y = shuffle(X, y, random_state=0)"
   ]
  },
  {
   "cell_type": "markdown",
   "metadata": {},
   "source": [
    "## SPLIT DATASET"
   ]
  },
  {
   "cell_type": "code",
   "execution_count": 12,
   "metadata": {},
   "outputs": [],
   "source": [
    "from sklearn.model_selection import train_test_split"
   ]
  },
  {
   "cell_type": "code",
   "execution_count": 13,
   "metadata": {},
   "outputs": [],
   "source": [
    "trainX, valX, trainY, valY = train_test_split(X, y, test_size=0.20, random_state=42)"
   ]
  },
  {
   "cell_type": "markdown",
   "metadata": {},
   "source": [
    "### NORMALIZANDO"
   ]
  },
  {
   "cell_type": "code",
   "execution_count": 14,
   "metadata": {},
   "outputs": [],
   "source": [
    "from sklearn.preprocessing import Normalizer"
   ]
  },
  {
   "cell_type": "code",
   "execution_count": 15,
   "metadata": {},
   "outputs": [],
   "source": [
    "norm = Normalizer(norm=\"l2\")\n",
    "trainX = norm.transform(trainX)\n",
    "valX = norm.transform(valX)"
   ]
  },
  {
   "cell_type": "markdown",
   "metadata": {},
   "source": [
    "## TRATANDO LABELS"
   ]
  },
  {
   "cell_type": "code",
   "execution_count": 16,
   "metadata": {},
   "outputs": [],
   "source": [
    "from sklearn.preprocessing import LabelEncoder"
   ]
  },
  {
   "cell_type": "code",
   "execution_count": 17,
   "metadata": {},
   "outputs": [
    {
     "data": {
      "text/plain": [
       "array(['desconhecidos', 'etiene', 'sandeco'], dtype=object)"
      ]
     },
     "execution_count": 17,
     "metadata": {},
     "output_type": "execute_result"
    }
   ],
   "source": [
    "np.unique(trainY)"
   ]
  },
  {
   "cell_type": "code",
   "execution_count": 18,
   "metadata": {},
   "outputs": [
    {
     "data": {
      "text/plain": [
       "3"
      ]
     },
     "execution_count": 18,
     "metadata": {},
     "output_type": "execute_result"
    }
   ],
   "source": [
    "classes = len(np.unique(trainY))\n",
    "classes"
   ]
  },
  {
   "cell_type": "markdown",
   "metadata": {},
   "source": [
    "### Discretizando"
   ]
  },
  {
   "cell_type": "code",
   "execution_count": 19,
   "metadata": {},
   "outputs": [
    {
     "data": {
      "text/plain": [
       "array([0, 1, 2])"
      ]
     },
     "execution_count": 19,
     "metadata": {},
     "output_type": "execute_result"
    }
   ],
   "source": [
    "# label encode targets\n",
    "out_encoder = LabelEncoder()\n",
    "out_encoder.fit(trainY)\n",
    "trainY = out_encoder.transform(trainY)\n",
    "np.unique(trainY)"
   ]
  },
  {
   "cell_type": "code",
   "execution_count": 20,
   "metadata": {},
   "outputs": [
    {
     "data": {
      "text/plain": [
       "array([0, 1, 2])"
      ]
     },
     "execution_count": 20,
     "metadata": {},
     "output_type": "execute_result"
    }
   ],
   "source": [
    "# label encode targets\n",
    "out_encoder = LabelEncoder()\n",
    "out_encoder.fit(valY)\n",
    "valY = out_encoder.transform(valY)\n",
    "np.unique(valY)"
   ]
  },
  {
   "cell_type": "markdown",
   "metadata": {},
   "source": [
    "## USANDO O KERAS"
   ]
  },
  {
   "cell_type": "code",
   "execution_count": 21,
   "metadata": {},
   "outputs": [],
   "source": [
    "from tensorflow.keras.utils import to_categorical\n",
    "trainY = to_categorical(trainY)\n",
    "valY = to_categorical(valY)"
   ]
  },
  {
   "cell_type": "code",
   "execution_count": 22,
   "metadata": {},
   "outputs": [
    {
     "name": "stdout",
     "output_type": "stream",
     "text": [
      "[1. 0. 0.]\n",
      "[1. 0. 0.]\n"
     ]
    }
   ],
   "source": [
    "print(valY[0])\n",
    "print(trainY[0])"
   ]
  },
  {
   "cell_type": "code",
   "execution_count": 23,
   "metadata": {},
   "outputs": [],
   "source": [
    "from tensorflow.keras import models\n",
    "from tensorflow.keras import layers"
   ]
  },
  {
   "cell_type": "code",
   "execution_count": 24,
   "metadata": {},
   "outputs": [
    {
     "name": "stdout",
     "output_type": "stream",
     "text": [
      "WARNING:tensorflow:From c:\\users\\sandeco\\appdata\\local\\programs\\python\\python37\\lib\\site-packages\\tensorflow_core\\python\\ops\\resource_variable_ops.py:1630: calling BaseResourceVariable.__init__ (from tensorflow.python.ops.resource_variable_ops) with constraint is deprecated and will be removed in a future version.\n",
      "Instructions for updating:\n",
      "If using Keras pass *_constraint arguments to layers.\n",
      "Model: \"sequential\"\n",
      "_________________________________________________________________\n",
      "Layer (type)                 Output Shape              Param #   \n",
      "=================================================================\n",
      "dense (Dense)                (None, 128)               16512     \n",
      "_________________________________________________________________\n",
      "dropout (Dropout)            (None, 128)               0         \n",
      "_________________________________________________________________\n",
      "dense_1 (Dense)              (None, 3)                 387       \n",
      "=================================================================\n",
      "Total params: 16,899\n",
      "Trainable params: 16,899\n",
      "Non-trainable params: 0\n",
      "_________________________________________________________________\n"
     ]
    }
   ],
   "source": [
    "model = models.Sequential()\n",
    "model.add(layers.Dense(128, activation='relu', input_shape=(128,)))\n",
    "model.add(layers.Dropout(0.5))\n",
    "model.add(layers.Dense(classes, activation='softmax'))\n",
    "\n",
    "model.summary()"
   ]
  },
  {
   "cell_type": "code",
   "execution_count": 25,
   "metadata": {},
   "outputs": [],
   "source": [
    "model.compile(optimizer='adam',\n",
    "                loss='categorical_crossentropy',\n",
    "                metrics=['accuracy'])"
   ]
  },
  {
   "cell_type": "code",
   "execution_count": 26,
   "metadata": {},
   "outputs": [
    {
     "name": "stdout",
     "output_type": "stream",
     "text": [
      "Train on 23820 samples, validate on 5955 samples\n",
      "Epoch 1/40\n",
      "23820/23820 [==============================] - 7s 283us/sample - loss: 0.0461 - acc: 0.9918 - val_loss: 0.0143 - val_acc: 0.9971\n",
      "Epoch 2/40\n",
      "23820/23820 [==============================] - 6s 269us/sample - loss: 0.0127 - acc: 0.9971 - val_loss: 0.0114 - val_acc: 0.9980\n",
      "Epoch 3/40\n",
      "23820/23820 [==============================] - 6s 259us/sample - loss: 0.0112 - acc: 0.9973 - val_loss: 0.0097 - val_acc: 0.9985\n",
      "Epoch 4/40\n",
      "23820/23820 [==============================] - 7s 281us/sample - loss: 0.0094 - acc: 0.9975 - val_loss: 0.0096 - val_acc: 0.9983\n",
      "Epoch 5/40\n",
      "23820/23820 [==============================] - 6s 260us/sample - loss: 0.0071 - acc: 0.9981 - val_loss: 0.0089 - val_acc: 0.9985\n",
      "Epoch 6/40\n",
      "23820/23820 [==============================] - 6s 271us/sample - loss: 0.0065 - acc: 0.9979 - val_loss: 0.0081 - val_acc: 0.9983\n",
      "Epoch 7/40\n",
      "23820/23820 [==============================] - 7s 279us/sample - loss: 0.0060 - acc: 0.9982 - val_loss: 0.0068 - val_acc: 0.9987\n",
      "Epoch 8/40\n",
      "23820/23820 [==============================] - 6s 273us/sample - loss: 0.0046 - acc: 0.9984 - val_loss: 0.0079 - val_acc: 0.9985\n",
      "Epoch 9/40\n",
      "23820/23820 [==============================] - 6s 262us/sample - loss: 0.0035 - acc: 0.9990 - val_loss: 0.0083 - val_acc: 0.9987\n",
      "Epoch 10/40\n",
      "23820/23820 [==============================] - 7s 281us/sample - loss: 0.0031 - acc: 0.9990 - val_loss: 0.0063 - val_acc: 0.9988\n",
      "Epoch 11/40\n",
      "23820/23820 [==============================] - 7s 276us/sample - loss: 0.0026 - acc: 0.9993 - val_loss: 0.0072 - val_acc: 0.9985\n",
      "Epoch 12/40\n",
      "23820/23820 [==============================] - 6s 259us/sample - loss: 0.0024 - acc: 0.9995 - val_loss: 0.0048 - val_acc: 0.9992\n",
      "Epoch 13/40\n",
      "23820/23820 [==============================] - 6s 267us/sample - loss: 0.0021 - acc: 0.9993 - val_loss: 0.0056 - val_acc: 0.9992\n",
      "Epoch 14/40\n",
      "23820/23820 [==============================] - 6s 272us/sample - loss: 0.0017 - acc: 0.9993 - val_loss: 0.0056 - val_acc: 0.9990\n",
      "Epoch 15/40\n",
      "23820/23820 [==============================] - 7s 283us/sample - loss: 0.0014 - acc: 0.9995 - val_loss: 0.0068 - val_acc: 0.9987\n",
      "Epoch 16/40\n",
      "23820/23820 [==============================] - 6s 268us/sample - loss: 0.0016 - acc: 0.9993 - val_loss: 0.0050 - val_acc: 0.9992\n",
      "Epoch 17/40\n",
      "23820/23820 [==============================] - 6s 261us/sample - loss: 0.0014 - acc: 0.9996 - val_loss: 0.0052 - val_acc: 0.9992\n",
      "Epoch 18/40\n",
      "23820/23820 [==============================] - 6s 263us/sample - loss: 0.0013 - acc: 0.9996 - val_loss: 0.0055 - val_acc: 0.9990\n",
      "Epoch 19/40\n",
      "23820/23820 [==============================] - 6s 266us/sample - loss: 9.2903e-04 - acc: 0.9997 - val_loss: 0.0041 - val_acc: 0.9992\n",
      "Epoch 20/40\n",
      "23820/23820 [==============================] - 6s 262us/sample - loss: 7.6335e-04 - acc: 0.9998 - val_loss: 0.0036 - val_acc: 0.9992\n",
      "Epoch 21/40\n",
      "23820/23820 [==============================] - 6s 262us/sample - loss: 0.0013 - acc: 0.9994 - val_loss: 0.0049 - val_acc: 0.9990\n",
      "Epoch 22/40\n",
      "23820/23820 [==============================] - 6s 259us/sample - loss: 9.1885e-04 - acc: 0.9997 - val_loss: 0.0052 - val_acc: 0.9992\n",
      "Epoch 23/40\n",
      "23820/23820 [==============================] - 6s 259us/sample - loss: 9.1276e-04 - acc: 0.9996 - val_loss: 0.0055 - val_acc: 0.9992\n",
      "Epoch 24/40\n",
      "23820/23820 [==============================] - 6s 261us/sample - loss: 6.5822e-04 - acc: 0.9998 - val_loss: 0.0054 - val_acc: 0.9993\n",
      "Epoch 25/40\n",
      "23820/23820 [==============================] - 6s 264us/sample - loss: 4.1793e-04 - acc: 0.9998 - val_loss: 0.0059 - val_acc: 0.9992\n",
      "Epoch 26/40\n",
      "23820/23820 [==============================] - 6s 258us/sample - loss: 0.0015 - acc: 0.9996 - val_loss: 0.0043 - val_acc: 0.9992\n",
      "Epoch 27/40\n",
      "23820/23820 [==============================] - 6s 259us/sample - loss: 8.9048e-04 - acc: 0.9997 - val_loss: 0.0050 - val_acc: 0.9992\n",
      "Epoch 28/40\n",
      "23820/23820 [==============================] - 6s 260us/sample - loss: 6.4130e-04 - acc: 0.9997 - val_loss: 0.0055 - val_acc: 0.9990\n",
      "Epoch 29/40\n",
      "23820/23820 [==============================] - 6s 261us/sample - loss: 9.2846e-04 - acc: 0.9997 - val_loss: 0.0041 - val_acc: 0.9993\n",
      "Epoch 30/40\n",
      "23820/23820 [==============================] - 6s 259us/sample - loss: 6.1318e-04 - acc: 0.9998 - val_loss: 0.0052 - val_acc: 0.9990\n",
      "Epoch 31/40\n",
      "23820/23820 [==============================] - 6s 261us/sample - loss: 3.7358e-04 - acc: 0.9999 - val_loss: 0.0047 - val_acc: 0.9992\n",
      "Epoch 32/40\n",
      "23820/23820 [==============================] - 6s 261us/sample - loss: 3.6376e-04 - acc: 0.9999 - val_loss: 0.0051 - val_acc: 0.9990\n",
      "Epoch 33/40\n",
      "23820/23820 [==============================] - 6s 260us/sample - loss: 3.1345e-04 - acc: 0.9999 - val_loss: 0.0047 - val_acc: 0.9988\n",
      "Epoch 34/40\n",
      "23820/23820 [==============================] - 6s 259us/sample - loss: 1.4055e-04 - acc: 1.0000 - val_loss: 0.0051 - val_acc: 0.9990\n",
      "Epoch 35/40\n",
      "23820/23820 [==============================] - 6s 263us/sample - loss: 3.2930e-04 - acc: 0.9998 - val_loss: 0.0041 - val_acc: 0.9990\n",
      "Epoch 36/40\n",
      "23820/23820 [==============================] - 6s 272us/sample - loss: 5.0916e-04 - acc: 0.9997 - val_loss: 0.0066 - val_acc: 0.9988\n",
      "Epoch 37/40\n",
      "23820/23820 [==============================] - 6s 264us/sample - loss: 4.6007e-04 - acc: 0.9999 - val_loss: 0.0043 - val_acc: 0.9992\n",
      "Epoch 38/40\n",
      "23820/23820 [==============================] - 6s 260us/sample - loss: 1.9431e-04 - acc: 1.0000 - val_loss: 0.0049 - val_acc: 0.9990\n",
      "Epoch 39/40\n",
      "23820/23820 [==============================] - 6s 266us/sample - loss: 3.2011e-04 - acc: 0.9999 - val_loss: 0.0046 - val_acc: 0.9992\n",
      "Epoch 40/40\n",
      "23820/23820 [==============================] - 6s 267us/sample - loss: 1.3791e-04 - acc: 1.0000 - val_loss: 0.0060 - val_acc: 0.9992\n"
     ]
    }
   ],
   "source": [
    "batch_size=8\n",
    "epochs= 40\n",
    "\n",
    "history = model.fit(trainX, trainY,  \n",
    "                    epochs=epochs, \n",
    "                    validation_data = (valX,valY), \n",
    "                    batch_size=batch_size)\n",
    "                   "
   ]
  },
  {
   "cell_type": "code",
   "execution_count": 35,
   "metadata": {},
   "outputs": [],
   "source": [
    "import matplotlib.pyplot as plt\n",
    "%matplotlib inline"
   ]
  },
  {
   "cell_type": "code",
   "execution_count": 36,
   "metadata": {},
   "outputs": [
    {
     "data": {
      "image/png": "[encoded data removed]",
      "text/plain": [
       "<Figure size 432x288 with 1 Axes>"
      ]
     },
     "metadata": {
      "needs_background": "light"
     },
     "output_type": "display_data"
    },
    {
     "data": {
      "image/png": "[encoded data removed]",
      "text/plain": [
       "<Figure size 432x288 with 1 Axes>"
      ]
     },
     "metadata": {
      "needs_background": "light"
     },
     "output_type": "display_data"
    }
   ],
   "source": [
    "plt.plot(history.history['acc'])\n",
    "plt.plot(history.history['val_acc'])\n",
    "plt.title('model accuracy')\n",
    "plt.ylabel('accuracy')\n",
    "plt.xlabel('epoch')\n",
    "plt.legend(['train', 'test'], loc='upper left')\n",
    "plt.show()\n",
    "# summarize history for loss\n",
    "plt.plot(history.history['loss'])\n",
    "plt.plot(history.history['val_loss'])\n",
    "plt.title('model loss')\n",
    "plt.ylabel('loss')\n",
    "plt.xlabel('epoch')\n",
    "plt.legend(['train', 'test'], loc='upper left')\n",
    "plt.show()"
   ]
  },
  {
   "cell_type": "code",
   "execution_count": null,
   "metadata": {},
   "outputs": [],
   "source": []
  },
  {
   "cell_type": "code",
   "execution_count": 39,
   "metadata": {},
   "outputs": [],
   "source": [
    "yhat_val = model.predict(valX)"
   ]
  },
  {
   "cell_type": "code",
   "execution_count": 40,
   "metadata": {},
   "outputs": [
    {
     "ename": "AxisError",
     "evalue": "axis 1 is out of bounds for array of dimension 1",
     "output_type": "error",
     "traceback": [
      "\u001b[1;31m---------------------------------------------------------------------------\u001b[0m",
      "\u001b[1;31mAxisError\u001b[0m                                 Traceback (most recent call last)",
      "\u001b[1;32m<ipython-input-40-6416cecbc2d1>\u001b[0m in \u001b[0;36m<module>\u001b[1;34m\u001b[0m\n\u001b[1;32m----> 1\u001b[1;33m \u001b[0mvalY\u001b[0m \u001b[1;33m=\u001b[0m \u001b[0mnp\u001b[0m\u001b[1;33m.\u001b[0m\u001b[0margmax\u001b[0m\u001b[1;33m(\u001b[0m\u001b[0mvalY\u001b[0m\u001b[1;33m,\u001b[0m\u001b[0maxis\u001b[0m \u001b[1;33m=\u001b[0m \u001b[1;36m1\u001b[0m\u001b[1;33m)\u001b[0m\u001b[1;33m\u001b[0m\u001b[1;33m\u001b[0m\u001b[0m\n\u001b[0m\u001b[0;32m      2\u001b[0m \u001b[0myhat_val\u001b[0m \u001b[1;33m=\u001b[0m \u001b[0mnp\u001b[0m\u001b[1;33m.\u001b[0m\u001b[0margmax\u001b[0m\u001b[1;33m(\u001b[0m\u001b[0myhat_val\u001b[0m\u001b[1;33m,\u001b[0m\u001b[0maxis\u001b[0m \u001b[1;33m=\u001b[0m \u001b[1;36m1\u001b[0m\u001b[1;33m)\u001b[0m\u001b[1;33m\u001b[0m\u001b[1;33m\u001b[0m\u001b[0m\n\u001b[0;32m      3\u001b[0m \u001b[1;33m\u001b[0m\u001b[0m\n\u001b[0;32m      4\u001b[0m \u001b[0mprint\u001b[0m\u001b[1;33m(\u001b[0m\u001b[0mvalY\u001b[0m\u001b[1;33m[\u001b[0m\u001b[1;36m0\u001b[0m\u001b[1;33m]\u001b[0m\u001b[1;33m)\u001b[0m\u001b[1;33m\u001b[0m\u001b[1;33m\u001b[0m\u001b[0m\n\u001b[0;32m      5\u001b[0m \u001b[0mprint\u001b[0m\u001b[1;33m(\u001b[0m\u001b[0myhat_val\u001b[0m\u001b[1;33m[\u001b[0m\u001b[1;36m0\u001b[0m\u001b[1;33m]\u001b[0m\u001b[1;33m)\u001b[0m\u001b[1;33m\u001b[0m\u001b[1;33m\u001b[0m\u001b[0m\n",
      "\u001b[1;32m<__array_function__ internals>\u001b[0m in \u001b[0;36margmax\u001b[1;34m(*args, **kwargs)\u001b[0m\n",
      "\u001b[1;32mc:\\users\\sandeco\\appdata\\local\\programs\\python\\python37\\lib\\site-packages\\numpy\\core\\fromnumeric.py\u001b[0m in \u001b[0;36margmax\u001b[1;34m(a, axis, out)\u001b[0m\n\u001b[0;32m   1184\u001b[0m \u001b[1;33m\u001b[0m\u001b[0m\n\u001b[0;32m   1185\u001b[0m     \"\"\"\n\u001b[1;32m-> 1186\u001b[1;33m     \u001b[1;32mreturn\u001b[0m \u001b[0m_wrapfunc\u001b[0m\u001b[1;33m(\u001b[0m\u001b[0ma\u001b[0m\u001b[1;33m,\u001b[0m \u001b[1;34m'argmax'\u001b[0m\u001b[1;33m,\u001b[0m \u001b[0maxis\u001b[0m\u001b[1;33m=\u001b[0m\u001b[0maxis\u001b[0m\u001b[1;33m,\u001b[0m \u001b[0mout\u001b[0m\u001b[1;33m=\u001b[0m\u001b[0mout\u001b[0m\u001b[1;33m)\u001b[0m\u001b[1;33m\u001b[0m\u001b[1;33m\u001b[0m\u001b[0m\n\u001b[0m\u001b[0;32m   1187\u001b[0m \u001b[1;33m\u001b[0m\u001b[0m\n\u001b[0;32m   1188\u001b[0m \u001b[1;33m\u001b[0m\u001b[0m\n",
      "\u001b[1;32mc:\\users\\sandeco\\appdata\\local\\programs\\python\\python37\\lib\\site-packages\\numpy\\core\\fromnumeric.py\u001b[0m in \u001b[0;36m_wrapfunc\u001b[1;34m(obj, method, *args, **kwds)\u001b[0m\n\u001b[0;32m     59\u001b[0m \u001b[1;33m\u001b[0m\u001b[0m\n\u001b[0;32m     60\u001b[0m     \u001b[1;32mtry\u001b[0m\u001b[1;33m:\u001b[0m\u001b[1;33m\u001b[0m\u001b[1;33m\u001b[0m\u001b[0m\n\u001b[1;32m---> 61\u001b[1;33m         \u001b[1;32mreturn\u001b[0m \u001b[0mbound\u001b[0m\u001b[1;33m(\u001b[0m\u001b[1;33m*\u001b[0m\u001b[0margs\u001b[0m\u001b[1;33m,\u001b[0m \u001b[1;33m**\u001b[0m\u001b[0mkwds\u001b[0m\u001b[1;33m)\u001b[0m\u001b[1;33m\u001b[0m\u001b[1;33m\u001b[0m\u001b[0m\n\u001b[0m\u001b[0;32m     62\u001b[0m     \u001b[1;32mexcept\u001b[0m \u001b[0mTypeError\u001b[0m\u001b[1;33m:\u001b[0m\u001b[1;33m\u001b[0m\u001b[1;33m\u001b[0m\u001b[0m\n\u001b[0;32m     63\u001b[0m         \u001b[1;31m# A TypeError occurs if the object does have such a method in its\u001b[0m\u001b[1;33m\u001b[0m\u001b[1;33m\u001b[0m\u001b[1;33m\u001b[0m\u001b[0m\n",
      "\u001b[1;31mAxisError\u001b[0m: axis 1 is out of bounds for array of dimension 1"
     ]
    }
   ],
   "source": [
    "valY = np.argmax(valY,axis = 1)\n",
    "yhat_val = np.argmax(yhat_val,axis = 1)\n",
    "\n",
    "print(valY[0])\n",
    "print(yhat_val[0])"
   ]
  },
  {
   "cell_type": "code",
   "execution_count": 41,
   "metadata": {},
   "outputs": [],
   "source": [
    "from sklearn.metrics import confusion_matrix\n",
    "\n",
    "def print_confusion_matrix(model_name, valY, yhat_val):\n",
    "        \n",
    "    cm = confusion_matrix(valY, yhat_val)\n",
    "    total = sum(sum(cm))\n",
    "    acc = (cm[0, 0] + cm[1, 1]) / total\n",
    "    sensitivity = cm[0, 0] / (cm[0, 0] + cm[0, 1])\n",
    "    specificity = cm[1, 1] / (cm[1, 0] + cm[1, 1])\n",
    "    \n",
    "    print(\"MODELO : {}\".format(model_name))\n",
    "    print(\"Acurácia: {:.4f}\".format(acc))\n",
    "    print(\"Sensitividade: {:.4f}\".format(sensitivity))\n",
    "    print(\"Especificidade: {:.4f}\".format(specificity))\n",
    "\n",
    "    from mlxtend.plotting import plot_confusion_matrix\n",
    "    fig, ax = plot_confusion_matrix(conf_mat=cm ,  figsize=(5, 5))\n",
    "    plt.show()"
   ]
  },
  {
   "cell_type": "code",
   "execution_count": 42,
   "metadata": {},
   "outputs": [
    {
     "ename": "ValueError",
     "evalue": "Classification metrics can't handle a mix of multiclass and continuous-multioutput targets",
     "output_type": "error",
     "traceback": [
      "\u001b[1;31m---------------------------------------------------------------------------\u001b[0m",
      "\u001b[1;31mValueError\u001b[0m                                Traceback (most recent call last)",
      "\u001b[1;32m<ipython-input-42-e4ce42e5d48c>\u001b[0m in \u001b[0;36m<module>\u001b[1;34m\u001b[0m\n\u001b[1;32m----> 1\u001b[1;33m \u001b[0mprint_confusion_matrix\u001b[0m\u001b[1;33m(\u001b[0m\u001b[1;34m\"KERAS\"\u001b[0m\u001b[1;33m,\u001b[0m \u001b[0mvalY\u001b[0m\u001b[1;33m,\u001b[0m \u001b[0myhat_val\u001b[0m\u001b[1;33m)\u001b[0m\u001b[1;33m\u001b[0m\u001b[1;33m\u001b[0m\u001b[0m\n\u001b[0m",
      "\u001b[1;32m<ipython-input-41-c4d8a71ea35d>\u001b[0m in \u001b[0;36mprint_confusion_matrix\u001b[1;34m(model_name, valY, yhat_val)\u001b[0m\n\u001b[0;32m      3\u001b[0m \u001b[1;32mdef\u001b[0m \u001b[0mprint_confusion_matrix\u001b[0m\u001b[1;33m(\u001b[0m\u001b[0mmodel_name\u001b[0m\u001b[1;33m,\u001b[0m \u001b[0mvalY\u001b[0m\u001b[1;33m,\u001b[0m \u001b[0myhat_val\u001b[0m\u001b[1;33m)\u001b[0m\u001b[1;33m:\u001b[0m\u001b[1;33m\u001b[0m\u001b[1;33m\u001b[0m\u001b[0m\n\u001b[0;32m      4\u001b[0m \u001b[1;33m\u001b[0m\u001b[0m\n\u001b[1;32m----> 5\u001b[1;33m     \u001b[0mcm\u001b[0m \u001b[1;33m=\u001b[0m \u001b[0mconfusion_matrix\u001b[0m\u001b[1;33m(\u001b[0m\u001b[0mvalY\u001b[0m\u001b[1;33m,\u001b[0m \u001b[0myhat_val\u001b[0m\u001b[1;33m)\u001b[0m\u001b[1;33m\u001b[0m\u001b[1;33m\u001b[0m\u001b[0m\n\u001b[0m\u001b[0;32m      6\u001b[0m     \u001b[0mtotal\u001b[0m \u001b[1;33m=\u001b[0m \u001b[0msum\u001b[0m\u001b[1;33m(\u001b[0m\u001b[0msum\u001b[0m\u001b[1;33m(\u001b[0m\u001b[0mcm\u001b[0m\u001b[1;33m)\u001b[0m\u001b[1;33m)\u001b[0m\u001b[1;33m\u001b[0m\u001b[1;33m\u001b[0m\u001b[0m\n\u001b[0;32m      7\u001b[0m     \u001b[0macc\u001b[0m \u001b[1;33m=\u001b[0m \u001b[1;33m(\u001b[0m\u001b[0mcm\u001b[0m\u001b[1;33m[\u001b[0m\u001b[1;36m0\u001b[0m\u001b[1;33m,\u001b[0m \u001b[1;36m0\u001b[0m\u001b[1;33m]\u001b[0m \u001b[1;33m+\u001b[0m \u001b[0mcm\u001b[0m\u001b[1;33m[\u001b[0m\u001b[1;36m1\u001b[0m\u001b[1;33m,\u001b[0m \u001b[1;36m1\u001b[0m\u001b[1;33m]\u001b[0m\u001b[1;33m)\u001b[0m \u001b[1;33m/\u001b[0m \u001b[0mtotal\u001b[0m\u001b[1;33m\u001b[0m\u001b[1;33m\u001b[0m\u001b[0m\n",
      "\u001b[1;32mc:\\users\\sandeco\\appdata\\local\\programs\\python\\python37\\lib\\site-packages\\sklearn\\metrics\\_classification.py\u001b[0m in \u001b[0;36mconfusion_matrix\u001b[1;34m(y_true, y_pred, labels, sample_weight, normalize)\u001b[0m\n\u001b[0;32m    266\u001b[0m \u001b[1;33m\u001b[0m\u001b[0m\n\u001b[0;32m    267\u001b[0m     \"\"\"\n\u001b[1;32m--> 268\u001b[1;33m     \u001b[0my_type\u001b[0m\u001b[1;33m,\u001b[0m \u001b[0my_true\u001b[0m\u001b[1;33m,\u001b[0m \u001b[0my_pred\u001b[0m \u001b[1;33m=\u001b[0m \u001b[0m_check_targets\u001b[0m\u001b[1;33m(\u001b[0m\u001b[0my_true\u001b[0m\u001b[1;33m,\u001b[0m \u001b[0my_pred\u001b[0m\u001b[1;33m)\u001b[0m\u001b[1;33m\u001b[0m\u001b[1;33m\u001b[0m\u001b[0m\n\u001b[0m\u001b[0;32m    269\u001b[0m     \u001b[1;32mif\u001b[0m \u001b[0my_type\u001b[0m \u001b[1;32mnot\u001b[0m \u001b[1;32min\u001b[0m \u001b[1;33m(\u001b[0m\u001b[1;34m\"binary\"\u001b[0m\u001b[1;33m,\u001b[0m \u001b[1;34m\"multiclass\"\u001b[0m\u001b[1;33m)\u001b[0m\u001b[1;33m:\u001b[0m\u001b[1;33m\u001b[0m\u001b[1;33m\u001b[0m\u001b[0m\n\u001b[0;32m    270\u001b[0m         \u001b[1;32mraise\u001b[0m \u001b[0mValueError\u001b[0m\u001b[1;33m(\u001b[0m\u001b[1;34m\"%s is not supported\"\u001b[0m \u001b[1;33m%\u001b[0m \u001b[0my_type\u001b[0m\u001b[1;33m)\u001b[0m\u001b[1;33m\u001b[0m\u001b[1;33m\u001b[0m\u001b[0m\n",
      "\u001b[1;32mc:\\users\\sandeco\\appdata\\local\\programs\\python\\python37\\lib\\site-packages\\sklearn\\metrics\\_classification.py\u001b[0m in \u001b[0;36m_check_targets\u001b[1;34m(y_true, y_pred)\u001b[0m\n\u001b[0;32m     88\u001b[0m     \u001b[1;32mif\u001b[0m \u001b[0mlen\u001b[0m\u001b[1;33m(\u001b[0m\u001b[0my_type\u001b[0m\u001b[1;33m)\u001b[0m \u001b[1;33m>\u001b[0m \u001b[1;36m1\u001b[0m\u001b[1;33m:\u001b[0m\u001b[1;33m\u001b[0m\u001b[1;33m\u001b[0m\u001b[0m\n\u001b[0;32m     89\u001b[0m         raise ValueError(\"Classification metrics can't handle a mix of {0} \"\n\u001b[1;32m---> 90\u001b[1;33m                          \"and {1} targets\".format(type_true, type_pred))\n\u001b[0m\u001b[0;32m     91\u001b[0m \u001b[1;33m\u001b[0m\u001b[0m\n\u001b[0;32m     92\u001b[0m     \u001b[1;31m# We can't have more than one value on y_type => The set is no more needed\u001b[0m\u001b[1;33m\u001b[0m\u001b[1;33m\u001b[0m\u001b[1;33m\u001b[0m\u001b[0m\n",
      "\u001b[1;31mValueError\u001b[0m: Classification metrics can't handle a mix of multiclass and continuous-multioutput targets"
     ]
    }
   ],
   "source": [
    "print_confusion_matrix(\"KERAS\", valY, yhat_val)"
   ]
  },
  {
   "cell_type": "markdown",
   "metadata": {},
   "source": [
    "## SALVANDO O MODELO"
   ]
  },
  {
   "cell_type": "code",
   "execution_count": 34,
   "metadata": {},
   "outputs": [],
   "source": [
    "model.save(\"faces_d.h5\")"
   ]
  },
  {
   "cell_type": "code",
   "execution_count": null,
   "metadata": {},
   "outputs": [],
   "source": []
  }
 ],
 "metadata": {
  "kernelspec": {
   "display_name": "Python 3",
   "language": "python",
   "name": "python3"
  },
  "language_info": {
   "codemirror_mode": {
    "name": "ipython",
    "version": 3
   },
   "file_extension": ".py",
   "mimetype": "text/x-python",
   "name": "python",
   "nbconvert_exporter": "python",
   "pygments_lexer": "ipython3",
   "version": "3.7.6"
  }
 },
 "nbformat": 4,
 "nbformat_minor": 2
}
