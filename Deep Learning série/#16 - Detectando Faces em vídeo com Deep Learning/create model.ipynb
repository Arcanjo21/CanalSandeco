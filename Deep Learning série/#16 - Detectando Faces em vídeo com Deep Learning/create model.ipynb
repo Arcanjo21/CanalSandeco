{
 "cells": [
  {
   "cell_type": "markdown",
   "metadata": {},
   "source": [
    "## AGENDA\n",
    "\n",
    "Dentro do tutorial de hoje, você aprenderá como:\n",
    "\n",
    "- Abrir uma base de imagens de raio-X  (open data) de pacientes com resultado POSITIVO para COVID-19 e imagens de pacientes com resultado NEGATIVO.\n",
    "\n",
    "\n",
    "- Dividir o dataset de imagens em conjunto de teste e conjunto de treino \n",
    "\n",
    "\n",
    "- Aplicar a técnica de aumento de dados (Data Augmentation)\n",
    "\n",
    "\n",
    "\n",
    "- Aplicar a técnica de transferência de inteligência entre redes neurais (Transfer Learning)\n",
    "\n",
    "\n",
    "- Treinar uma Rede Neural Convolucional com o Tensorflow/Keras para detectar automaticamente o COVID-19 em imagens de raios-X \n",
    "\n",
    "\n",
    "- Avaliar os resultados sob uma perspectiva educacional"
   ]
  },
  {
   "cell_type": "markdown",
   "metadata": {},
   "source": [
    "## importações de bibliotecas"
   ]
  },
  {
   "cell_type": "code",
   "execution_count": 27,
   "metadata": {},
   "outputs": [],
   "source": [
    "from PIL import Image\n",
    "from os import listdir\n",
    "from os.path import isdir\n",
    "import numpy as np\n",
    "from sklearn.model_selection import train_test_split\n",
    "from sklearn.preprocessing import LabelBinarizer\n",
    "from tensorflow.keras.preprocessing.image import ImageDataGenerator\n",
    "from tensorflow.keras.applications import VGG19\n",
    "from tensorflow.keras.utils import to_categorical\n",
    "from tensorflow.keras import layers\n",
    "from tensorflow.keras import models\n",
    "from tensorflow.keras import optimizers"
   ]
  },
  {
   "cell_type": "markdown",
   "metadata": {},
   "source": [
    "### Carregando uma imagem"
   ]
  },
  {
   "cell_type": "code",
   "execution_count": 28,
   "metadata": {},
   "outputs": [],
   "source": [
    "def select_image(filename):\n",
    "    # load image from file\n",
    "    image = Image.open(filename)\n",
    "    # convert to RGB, if needed\n",
    "    image = image.convert('RGB')\n",
    "    image = image.resize((160,160))\n",
    "    # convert to array\n",
    "    return np.asarray(image)"
   ]
  },
  {
   "cell_type": "markdown",
   "metadata": {},
   "source": [
    "### Carregando uma classe"
   ]
  },
  {
   "cell_type": "code",
   "execution_count": 29,
   "metadata": {},
   "outputs": [],
   "source": [
    "def load_classes(diretorio, classe, imagens, labels):\n",
    "    # iterando arquivos\n",
    "\n",
    "    for filename in listdir(diretorio):\n",
    "\n",
    "        path = diretorio + filename\n",
    "\n",
    "        try:\n",
    "            imagens.append(select_image(path))\n",
    "            labels.append(classe)\n",
    "        except:\n",
    "            print(\"Erro ao ler imagem {}\".format(path))\n",
    "\n",
    "    return imagens, labels"
   ]
  },
  {
   "cell_type": "markdown",
   "metadata": {},
   "source": [
    "### Selecionando Dataset"
   ]
  },
  {
   "cell_type": "code",
   "execution_count": 30,
   "metadata": {},
   "outputs": [],
   "source": [
    "def select_data_set(diretorio):\n",
    "\n",
    "    imagens = list()\n",
    "    labels = list()\n",
    "\n",
    "    for subdir in listdir(diretorio):\n",
    "        # path\n",
    "        path = diretorio + subdir + '\\\\'\n",
    "\n",
    "        if not isdir(path):\n",
    "            continue\n",
    "        imagens, labels = load_classes(path, subdir, imagens, labels)\n",
    "\n",
    "    return imagens, labels"
   ]
  },
  {
   "cell_type": "markdown",
   "metadata": {},
   "source": [
    "### Carregando dataset Covid-19"
   ]
  },
  {
   "cell_type": "code",
   "execution_count": 31,
   "metadata": {},
   "outputs": [
    {
     "name": "stdout",
     "output_type": "stream",
     "text": [
      "Erro ao ler imagem D:\\dataset\\Mask\\faces\\maskon\\mask (118).jpg\n"
     ]
    }
   ],
   "source": [
    "covid_dataset = \"D:\\\\dataset\\\\Mask\\\\faces\\\\\"\n",
    "imagens, labels  = select_data_set(covid_dataset)\n",
    "imagens = np.array(imagens) / 255.0  ## convertendo de lista para array\n",
    "labels = np.array(labels)  ## convertendo de lista para array"
   ]
  },
  {
   "cell_type": "markdown",
   "metadata": {},
   "source": [
    "### Tratando classes - Labels"
   ]
  },
  {
   "cell_type": "code",
   "execution_count": 32,
   "metadata": {},
   "outputs": [],
   "source": [
    "lb = LabelBinarizer()\n",
    "labels = lb.fit_transform(labels)\n",
    "labels = to_categorical(labels)"
   ]
  },
  {
   "cell_type": "markdown",
   "metadata": {},
   "source": [
    "### Definindo hyperparametros"
   ]
  },
  {
   "cell_type": "code",
   "execution_count": 33,
   "metadata": {},
   "outputs": [],
   "source": [
    "batch_size   = 32\n",
    "input_shape  = (160, 160, 3)\n",
    "random_state = 42\n",
    "alpha        = 1e-5\n",
    "epoch        = 30"
   ]
  },
  {
   "cell_type": "markdown",
   "metadata": {},
   "source": [
    "## CALLBACKS\n",
    "\n",
    "Callback são classes que auxiliam o treinamento do modelo usando o Keras. As classes que usaremos são:\n",
    "\n",
    "- ModelCheckpoint\n",
    "- ReduceLROnPlateau\n",
    "- EarlyStopping"
   ]
  },
  {
   "cell_type": "code",
   "execution_count": 34,
   "metadata": {},
   "outputs": [],
   "source": [
    "from tensorflow.keras.callbacks import ModelCheckpoint, ReduceLROnPlateau"
   ]
  },
  {
   "cell_type": "markdown",
   "metadata": {},
   "source": [
    "#### ModelCheckpoint\n",
    "\n",
    "ModelCheckpoint nos ajudará a salvar o modelo para cada época, para que possamos treinar nosso modelo e não nos preocuparmos com possíveis problemas que possam acontecer, como travamento da máquina.\n",
    "\n",
    "- **filepath**: onde será salvo o modelo\n",
    "- **monitor**: métrica a ser monitorada\n",
    "- **verbose**: (1) mostra na barra de progresso (0) não\n",
    "- **save_best_only**: Salvar somente o melhor modelo\n",
    "- **mode**: como vamos monitorar o 'val_acc' o valor aqui vai ser 'max'. Queremos a máxima acurácia.\n"
   ]
  },
  {
   "cell_type": "code",
   "execution_count": 35,
   "metadata": {},
   "outputs": [],
   "source": [
    "filepath=\"detector.h5\"\n",
    "checkpoint = ModelCheckpoint(filepath, monitor='val_acc', verbose=1, save_best_only=True, mode='max')"
   ]
  },
  {
   "cell_type": "markdown",
   "metadata": {},
   "source": [
    "#### ReduceLROnPlateau\n",
    "\n",
    "Nos auxiliara a reduzir a taxa de aprendizado pelo fator (factor) caso não ocorra a mudança no loss.\n",
    "\n",
    "- **monitor**: métrica a ser monitorada\n",
    "- **factor**: fator de redução caso estejamos em um plator\n",
    "- **min_delta**: valor mínimo da perda\n",
    "- **patience**: só altere pelo fator após se repitir por 'patience' vezes.\n",
    "- **verbose**: (1) mostra na barra de progresso (0) não\n"
   ]
  },
  {
   "cell_type": "code",
   "execution_count": 36,
   "metadata": {},
   "outputs": [],
   "source": [
    "lr_reduce = ReduceLROnPlateau(monitor='val_acc', factor=0.1, min_delta=alpha, patience=5, verbose=1)"
   ]
  },
  {
   "cell_type": "markdown",
   "metadata": {},
   "source": [
    "### Array de Callbacks"
   ]
  },
  {
   "cell_type": "code",
   "execution_count": 37,
   "metadata": {},
   "outputs": [],
   "source": [
    "callbacks = [checkpoint, lr_reduce]"
   ]
  },
  {
   "cell_type": "markdown",
   "metadata": {},
   "source": [
    "### Particionando dataset em teste e treino"
   ]
  },
  {
   "cell_type": "code",
   "execution_count": 38,
   "metadata": {},
   "outputs": [],
   "source": [
    "(trainX, testX, trainY, testY) = train_test_split(imagens, labels, test_size=0.20, stratify=labels, random_state=random_state)"
   ]
  },
  {
   "cell_type": "markdown",
   "metadata": {},
   "source": [
    "## DATA AUGMENTATION"
   ]
  },
  {
   "cell_type": "code",
   "execution_count": 39,
   "metadata": {},
   "outputs": [],
   "source": [
    "train_datagen = ImageDataGenerator(\n",
    "        horizontal_flip= True,\n",
    "        rotation_range=20,\n",
    "        zoom_range=0.2,\n",
    "        width_shift_range=0.2,\n",
    "        height_shift_range=0.2,\n",
    "        shear_range=0.2,\n",
    "        fill_mode='nearest'\n",
    "        )\n",
    "\n",
    "train_datagen.fit(trainX)\n",
    "\n",
    "data_aug = train_datagen.flow(trainX, trainY, batch_size=batch_size)"
   ]
  },
  {
   "cell_type": "markdown",
   "metadata": {},
   "source": [
    "## TRANSFER LEARNING"
   ]
  },
  {
   "cell_type": "code",
   "execution_count": 40,
   "metadata": {},
   "outputs": [
    {
     "name": "stdout",
     "output_type": "stream",
     "text": [
      "WARNING:tensorflow:From c:\\users\\sandeco\\appdata\\local\\programs\\python\\python37\\lib\\site-packages\\tensorflow_core\\python\\ops\\resource_variable_ops.py:1630: calling BaseResourceVariable.__init__ (from tensorflow.python.ops.resource_variable_ops) with constraint is deprecated and will be removed in a future version.\n",
      "Instructions for updating:\n",
      "If using Keras pass *_constraint arguments to layers.\n"
     ]
    }
   ],
   "source": [
    "conv_base = VGG19(weights='imagenet', include_top=False, input_shape=input_shape)"
   ]
  },
  {
   "cell_type": "code",
   "execution_count": 41,
   "metadata": {},
   "outputs": [
    {
     "name": "stdout",
     "output_type": "stream",
     "text": [
      "Model: \"vgg19\"\n",
      "_________________________________________________________________\n",
      "Layer (type)                 Output Shape              Param #   \n",
      "=================================================================\n",
      "input_1 (InputLayer)         [(None, 160, 160, 3)]     0         \n",
      "_________________________________________________________________\n",
      "block1_conv1 (Conv2D)        (None, 160, 160, 64)      1792      \n",
      "_________________________________________________________________\n",
      "block1_conv2 (Conv2D)        (None, 160, 160, 64)      36928     \n",
      "_________________________________________________________________\n",
      "block1_pool (MaxPooling2D)   (None, 80, 80, 64)        0         \n",
      "_________________________________________________________________\n",
      "block2_conv1 (Conv2D)        (None, 80, 80, 128)       73856     \n",
      "_________________________________________________________________\n",
      "block2_conv2 (Conv2D)        (None, 80, 80, 128)       147584    \n",
      "_________________________________________________________________\n",
      "block2_pool (MaxPooling2D)   (None, 40, 40, 128)       0         \n",
      "_________________________________________________________________\n",
      "block3_conv1 (Conv2D)        (None, 40, 40, 256)       295168    \n",
      "_________________________________________________________________\n",
      "block3_conv2 (Conv2D)        (None, 40, 40, 256)       590080    \n",
      "_________________________________________________________________\n",
      "block3_conv3 (Conv2D)        (None, 40, 40, 256)       590080    \n",
      "_________________________________________________________________\n",
      "block3_conv4 (Conv2D)        (None, 40, 40, 256)       590080    \n",
      "_________________________________________________________________\n",
      "block3_pool (MaxPooling2D)   (None, 20, 20, 256)       0         \n",
      "_________________________________________________________________\n",
      "block4_conv1 (Conv2D)        (None, 20, 20, 512)       1180160   \n",
      "_________________________________________________________________\n",
      "block4_conv2 (Conv2D)        (None, 20, 20, 512)       2359808   \n",
      "_________________________________________________________________\n",
      "block4_conv3 (Conv2D)        (None, 20, 20, 512)       2359808   \n",
      "_________________________________________________________________\n",
      "block4_conv4 (Conv2D)        (None, 20, 20, 512)       2359808   \n",
      "_________________________________________________________________\n",
      "block4_pool (MaxPooling2D)   (None, 10, 10, 512)       0         \n",
      "_________________________________________________________________\n",
      "block5_conv1 (Conv2D)        (None, 10, 10, 512)       2359808   \n",
      "_________________________________________________________________\n",
      "block5_conv2 (Conv2D)        (None, 10, 10, 512)       2359808   \n",
      "_________________________________________________________________\n",
      "block5_conv3 (Conv2D)        (None, 10, 10, 512)       2359808   \n",
      "_________________________________________________________________\n",
      "block5_conv4 (Conv2D)        (None, 10, 10, 512)       2359808   \n",
      "_________________________________________________________________\n",
      "block5_pool (MaxPooling2D)   (None, 5, 5, 512)         0         \n",
      "=================================================================\n",
      "Total params: 20,024,384\n",
      "Trainable params: 20,024,384\n",
      "Non-trainable params: 0\n",
      "_________________________________________________________________\n"
     ]
    }
   ],
   "source": [
    "conv_base.summary()"
   ]
  },
  {
   "cell_type": "markdown",
   "metadata": {},
   "source": [
    "### Retreinando parte da VGG19\n",
    "\n",
    "\n",
    "explicar aqui"
   ]
  },
  {
   "cell_type": "code",
   "execution_count": 42,
   "metadata": {},
   "outputs": [
    {
     "data": {
      "text/plain": [
       "\"\\nfor layer in conv_base.layers:\\n  if layer.name == 'block5_conv1':\\n    set_trainable = True\\n  if set_trainable:\\n    layer.trainable = True\\n  else:\\n    layer.trainable = False\\n\""
      ]
     },
     "execution_count": 42,
     "metadata": {},
     "output_type": "execute_result"
    }
   ],
   "source": [
    "conv_base.trainable = True\n",
    "set_trainable = False\n",
    "\n",
    "\"\"\"\n",
    "for layer in conv_base.layers:\n",
    "  if layer.name == 'block5_conv1':\n",
    "    set_trainable = True\n",
    "  if set_trainable:\n",
    "    layer.trainable = True\n",
    "  else:\n",
    "    layer.trainable = False\n",
    "\"\"\""
   ]
  },
  {
   "cell_type": "code",
   "execution_count": 43,
   "metadata": {},
   "outputs": [
    {
     "name": "stdout",
     "output_type": "stream",
     "text": [
      "Model: \"vgg19\"\n",
      "_________________________________________________________________\n",
      "Layer (type)                 Output Shape              Param #   \n",
      "=================================================================\n",
      "input_1 (InputLayer)         [(None, 160, 160, 3)]     0         \n",
      "_________________________________________________________________\n",
      "block1_conv1 (Conv2D)        (None, 160, 160, 64)      1792      \n",
      "_________________________________________________________________\n",
      "block1_conv2 (Conv2D)        (None, 160, 160, 64)      36928     \n",
      "_________________________________________________________________\n",
      "block1_pool (MaxPooling2D)   (None, 80, 80, 64)        0         \n",
      "_________________________________________________________________\n",
      "block2_conv1 (Conv2D)        (None, 80, 80, 128)       73856     \n",
      "_________________________________________________________________\n",
      "block2_conv2 (Conv2D)        (None, 80, 80, 128)       147584    \n",
      "_________________________________________________________________\n",
      "block2_pool (MaxPooling2D)   (None, 40, 40, 128)       0         \n",
      "_________________________________________________________________\n",
      "block3_conv1 (Conv2D)        (None, 40, 40, 256)       295168    \n",
      "_________________________________________________________________\n",
      "block3_conv2 (Conv2D)        (None, 40, 40, 256)       590080    \n",
      "_________________________________________________________________\n",
      "block3_conv3 (Conv2D)        (None, 40, 40, 256)       590080    \n",
      "_________________________________________________________________\n",
      "block3_conv4 (Conv2D)        (None, 40, 40, 256)       590080    \n",
      "_________________________________________________________________\n",
      "block3_pool (MaxPooling2D)   (None, 20, 20, 256)       0         \n",
      "_________________________________________________________________\n",
      "block4_conv1 (Conv2D)        (None, 20, 20, 512)       1180160   \n",
      "_________________________________________________________________\n",
      "block4_conv2 (Conv2D)        (None, 20, 20, 512)       2359808   \n",
      "_________________________________________________________________\n",
      "block4_conv3 (Conv2D)        (None, 20, 20, 512)       2359808   \n",
      "_________________________________________________________________\n",
      "block4_conv4 (Conv2D)        (None, 20, 20, 512)       2359808   \n",
      "_________________________________________________________________\n",
      "block4_pool (MaxPooling2D)   (None, 10, 10, 512)       0         \n",
      "_________________________________________________________________\n",
      "block5_conv1 (Conv2D)        (None, 10, 10, 512)       2359808   \n",
      "_________________________________________________________________\n",
      "block5_conv2 (Conv2D)        (None, 10, 10, 512)       2359808   \n",
      "_________________________________________________________________\n",
      "block5_conv3 (Conv2D)        (None, 10, 10, 512)       2359808   \n",
      "_________________________________________________________________\n",
      "block5_conv4 (Conv2D)        (None, 10, 10, 512)       2359808   \n",
      "_________________________________________________________________\n",
      "block5_pool (MaxPooling2D)   (None, 5, 5, 512)         0         \n",
      "=================================================================\n",
      "Total params: 20,024,384\n",
      "Trainable params: 20,024,384\n",
      "Non-trainable params: 0\n",
      "_________________________________________________________________\n"
     ]
    }
   ],
   "source": [
    "conv_base.summary()"
   ]
  },
  {
   "cell_type": "markdown",
   "metadata": {},
   "source": [
    "## CRIANDO O MODELO COM A VGG19 COMO BASE"
   ]
  },
  {
   "cell_type": "code",
   "execution_count": 44,
   "metadata": {},
   "outputs": [],
   "source": [
    "model = models.Sequential()\n",
    "model.add(conv_base)\n",
    "model.add(layers.GlobalAveragePooling2D())\n",
    "model.add(layers.BatchNormalization())\n",
    "model.add(layers.Flatten())\n",
    "model.add(layers.Dense(32, activation='relu'))\n",
    "model.add(layers.Dropout(0.5))\n",
    "model.add(layers.Dense(2, activation='softmax'))"
   ]
  },
  {
   "cell_type": "code",
   "execution_count": 45,
   "metadata": {},
   "outputs": [
    {
     "name": "stdout",
     "output_type": "stream",
     "text": [
      "Model: \"sequential\"\n",
      "_________________________________________________________________\n",
      "Layer (type)                 Output Shape              Param #   \n",
      "=================================================================\n",
      "vgg19 (Model)                (None, 5, 5, 512)         20024384  \n",
      "_________________________________________________________________\n",
      "global_average_pooling2d (Gl (None, 512)               0         \n",
      "_________________________________________________________________\n",
      "batch_normalization (BatchNo (None, 512)               2048      \n",
      "_________________________________________________________________\n",
      "flatten (Flatten)            (None, 512)               0         \n",
      "_________________________________________________________________\n",
      "dense (Dense)                (None, 32)                16416     \n",
      "_________________________________________________________________\n",
      "dropout (Dropout)            (None, 32)                0         \n",
      "_________________________________________________________________\n",
      "dense_1 (Dense)              (None, 2)                 66        \n",
      "=================================================================\n",
      "Total params: 20,042,914\n",
      "Trainable params: 20,041,890\n",
      "Non-trainable params: 1,024\n",
      "_________________________________________________________________\n"
     ]
    }
   ],
   "source": [
    "model.summary()"
   ]
  },
  {
   "cell_type": "markdown",
   "metadata": {},
   "source": [
    "## COMPILANDO O MODELO"
   ]
  },
  {
   "cell_type": "code",
   "execution_count": 46,
   "metadata": {},
   "outputs": [],
   "source": [
    "model.compile(loss='binary_crossentropy',\n",
    "                  optimizer='adam',\n",
    "                  metrics=['acc'])"
   ]
  },
  {
   "cell_type": "markdown",
   "metadata": {},
   "source": [
    "## TREINANDO O MODELO\n",
    "\n",
    "***Obs: não treinar na hora da live***"
   ]
  },
  {
   "cell_type": "code",
   "execution_count": 47,
   "metadata": {},
   "outputs": [
    {
     "name": "stdout",
     "output_type": "stream",
     "text": [
      "Epoch 1/30\n",
      "WARNING:tensorflow:From c:\\users\\sandeco\\appdata\\local\\programs\\python\\python37\\lib\\site-packages\\tensorflow_core\\python\\ops\\math_grad.py:1424: where (from tensorflow.python.ops.array_ops) is deprecated and will be removed in a future version.\n",
      "Instructions for updating:\n",
      "Use tf.where in 2.0, which has the same broadcast rule as np.where\n",
      "46/47 [============================>.] - ETA: 0s - loss: 0.4005 - acc: 0.8291Epoch 1/30\n",
      "384/47 [=====================================================================================================================================================================================================================================================] - 2s 4ms/sample - loss: 8.6271 - acc: 0.5000\n",
      "\n",
      "Epoch 00001: val_acc improved from -inf to 0.50000, saving model to detector.h5\n",
      "47/47 [==============================] - 28s 601ms/step - loss: 0.3968 - acc: 0.8294 - val_loss: 7.6685 - val_acc: 0.5000\n",
      "Epoch 2/30\n",
      "46/47 [============================>.] - ETA: 0s - loss: 0.2345 - acc: 0.9013Epoch 1/30\n",
      "384/47 [=====================================================================================================================================================================================================================================================] - 1s 4ms/sample - loss: 6.6897 - acc: 0.5000\n",
      "\n",
      "Epoch 00002: val_acc did not improve from 0.50000\n",
      "47/47 [==============================] - 18s 384ms/step - loss: 0.2339 - acc: 0.9021 - val_loss: 7.6406 - val_acc: 0.5000\n",
      "Epoch 3/30\n",
      "46/47 [============================>.] - ETA: 0s - loss: 0.2046 - acc: 0.9285Epoch 1/30\n",
      "384/47 [=====================================================================================================================================================================================================================================================] - 1s 4ms/sample - loss: 3.2548 - acc: 0.5026\n",
      "\n",
      "Epoch 00003: val_acc improved from 0.50000 to 0.50260, saving model to detector.h5\n",
      "47/47 [==============================] - 19s 396ms/step - loss: 0.2054 - acc: 0.9280 - val_loss: 3.6871 - val_acc: 0.5026\n",
      "Epoch 4/30\n",
      "46/47 [============================>.] - ETA: 0s - loss: 0.2151 - acc: 0.9251Epoch 1/30\n",
      "384/47 [=====================================================================================================================================================================================================================================================] - 1s 4ms/sample - loss: 2.3789 - acc: 0.5052\n",
      "\n",
      "Epoch 00004: val_acc improved from 0.50260 to 0.50521, saving model to detector.h5\n",
      "47/47 [==============================] - 19s 396ms/step - loss: 0.2162 - acc: 0.9254 - val_loss: 2.7303 - val_acc: 0.5052\n",
      "Epoch 5/30\n",
      "46/47 [============================>.] - ETA: 0s - loss: 0.1828 - acc: 0.9306Epoch 1/30\n",
      "384/47 [=====================================================================================================================================================================================================================================================] - 1s 4ms/sample - loss: 7.8663 - acc: 0.5000\n",
      "\n",
      "Epoch 00005: val_acc did not improve from 0.50521\n",
      "47/47 [==============================] - 18s 384ms/step - loss: 0.1844 - acc: 0.9294 - val_loss: 6.8852 - val_acc: 0.5000\n",
      "Epoch 6/30\n",
      "46/47 [============================>.] - ETA: 0s - loss: 0.1757 - acc: 0.9319Epoch 1/30\n",
      "384/47 [=====================================================================================================================================================================================================================================================] - 1s 4ms/sample - loss: 0.3289 - acc: 0.8750\n",
      "\n",
      "Epoch 00006: val_acc improved from 0.50521 to 0.87500, saving model to detector.h5\n",
      "47/47 [==============================] - 19s 397ms/step - loss: 0.1760 - acc: 0.9314 - val_loss: 0.4502 - val_acc: 0.8750\n",
      "Epoch 7/30\n",
      "46/47 [============================>.] - ETA: 0s - loss: 0.1653 - acc: 0.9374Epoch 1/30\n",
      "384/47 [=====================================================================================================================================================================================================================================================] - 1s 4ms/sample - loss: 2.3121 - acc: 0.6432\n",
      "\n",
      "Epoch 00007: val_acc did not improve from 0.87500\n",
      "47/47 [==============================] - 18s 384ms/step - loss: 0.1660 - acc: 0.9367 - val_loss: 1.8380 - val_acc: 0.6432\n",
      "Epoch 8/30\n",
      "46/47 [============================>.] - ETA: 0s - loss: 0.1767 - acc: 0.9374Epoch 1/30\n",
      "384/47 [=====================================================================================================================================================================================================================================================] - 1s 4ms/sample - loss: 6.7100 - acc: 0.5000\n",
      "\n",
      "Epoch 00008: val_acc did not improve from 0.87500\n",
      "47/47 [==============================] - 18s 384ms/step - loss: 0.1795 - acc: 0.9360 - val_loss: 7.6685 - val_acc: 0.5000\n",
      "Epoch 9/30\n",
      "46/47 [============================>.] - ETA: 0s - loss: 0.1926 - acc: 0.9326Epoch 1/30\n",
      "384/47 [=====================================================================================================================================================================================================================================================] - 1s 4ms/sample - loss: 5.6991 - acc: 0.5000\n",
      "\n",
      "Epoch 00009: val_acc did not improve from 0.87500\n",
      "47/47 [==============================] - 18s 384ms/step - loss: 0.1912 - acc: 0.9334 - val_loss: 4.9590 - val_acc: 0.5000\n",
      "Epoch 10/30\n",
      "46/47 [============================>.] - ETA: 0s - loss: 0.1791 - acc: 0.9353Epoch 1/30\n",
      "384/47 [=====================================================================================================================================================================================================================================================] - 1s 4ms/sample - loss: 8.6271 - acc: 0.5000\n",
      "\n",
      "Epoch 00010: val_acc did not improve from 0.87500\n",
      "47/47 [==============================] - 18s 384ms/step - loss: 0.1787 - acc: 0.9347 - val_loss: 7.6685 - val_acc: 0.5000\n",
      "Epoch 11/30\n",
      "46/47 [============================>.] - ETA: 0s - loss: 0.1842 - acc: 0.9415Epoch 1/30\n",
      "384/47 [=====================================================================================================================================================================================================================================================] - 1s 4ms/sample - loss: 7.3279 - acc: 0.5000\n",
      "\n",
      "Epoch 00011: val_acc did not improve from 0.87500\n",
      "\n",
      "Epoch 00011: ReduceLROnPlateau reducing learning rate to 0.00010000000474974513.\n",
      "47/47 [==============================] - 18s 385ms/step - loss: 0.1825 - acc: 0.9420 - val_loss: 6.5071 - val_acc: 0.5000\n",
      "Epoch 12/30\n",
      "46/47 [============================>.] - ETA: 0s - loss: 0.1812 - acc: 0.9278Epoch 1/30\n",
      "384/47 [=====================================================================================================================================================================================================================================================] - 1s 4ms/sample - loss: 1.2816 - acc: 0.5938\n",
      "\n",
      "Epoch 00012: val_acc did not improve from 0.87500\n",
      "47/47 [==============================] - 18s 384ms/step - loss: 0.1832 - acc: 0.9274 - val_loss: 1.4252 - val_acc: 0.5938\n",
      "Epoch 13/30\n",
      "46/47 [============================>.] - ETA: 0s - loss: 0.1464 - acc: 0.9462Epoch 1/30\n",
      "384/47 [=====================================================================================================================================================================================================================================================] - 1s 4ms/sample - loss: 0.1929 - acc: 0.9167\n",
      "\n",
      "Epoch 00013: val_acc improved from 0.87500 to 0.91667, saving model to detector.h5\n",
      "47/47 [==============================] - 19s 400ms/step - loss: 0.1494 - acc: 0.9460 - val_loss: 0.2546 - val_acc: 0.9167\n",
      "Epoch 14/30\n",
      "46/47 [============================>.] - ETA: 0s - loss: 0.1448 - acc: 0.9490Epoch 1/30\n"
     ]
    },
    {
     "name": "stdout",
     "output_type": "stream",
     "text": [
      "384/47 [=====================================================================================================================================================================================================================================================] - 1s 4ms/sample - loss: 0.0959 - acc: 0.9635\n",
      "\n",
      "Epoch 00014: val_acc improved from 0.91667 to 0.96354, saving model to detector.h5\n",
      "47/47 [==============================] - 19s 399ms/step - loss: 0.1465 - acc: 0.9481 - val_loss: 0.1454 - val_acc: 0.9635\n",
      "Epoch 15/30\n",
      "46/47 [============================>.] - ETA: 0s - loss: 0.1380 - acc: 0.9550Epoch 1/30\n",
      "384/47 [=====================================================================================================================================================================================================================================================] - 1s 4ms/sample - loss: 0.2757 - acc: 0.9062\n",
      "\n",
      "Epoch 00015: val_acc did not improve from 0.96354\n",
      "47/47 [==============================] - 18s 384ms/step - loss: 0.1405 - acc: 0.9533 - val_loss: 0.2343 - val_acc: 0.9062\n",
      "Epoch 16/30\n",
      "46/47 [============================>.] - ETA: 0s - loss: 0.1212 - acc: 0.9639Epoch 1/30\n",
      "384/47 [=====================================================================================================================================================================================================================================================] - 1s 4ms/sample - loss: 0.4817 - acc: 0.8776\n",
      "\n",
      "Epoch 00016: val_acc did not improve from 0.96354\n",
      "47/47 [==============================] - 18s 384ms/step - loss: 0.1210 - acc: 0.9634 - val_loss: 0.3735 - val_acc: 0.8776\n",
      "Epoch 17/30\n",
      "46/47 [============================>.] - ETA: 0s - loss: 0.1180 - acc: 0.9592Epoch 1/30\n",
      "384/47 [=====================================================================================================================================================================================================================================================] - 1s 4ms/sample - loss: 0.2885 - acc: 0.9219\n",
      "\n",
      "Epoch 00017: val_acc did not improve from 0.96354\n",
      "47/47 [==============================] - 18s 385ms/step - loss: 0.1182 - acc: 0.9594 - val_loss: 0.2418 - val_acc: 0.9219\n",
      "Epoch 18/30\n",
      "46/47 [============================>.] - ETA: 0s - loss: 0.1211 - acc: 0.9578Epoch 1/30\n",
      "384/47 [=====================================================================================================================================================================================================================================================] - 1s 4ms/sample - loss: 0.0823 - acc: 0.9557\n",
      "\n",
      "Epoch 00018: val_acc did not improve from 0.96354\n",
      "47/47 [==============================] - 18s 384ms/step - loss: 0.1211 - acc: 0.9567 - val_loss: 0.1390 - val_acc: 0.9557\n",
      "Epoch 19/30\n",
      "46/47 [============================>.] - ETA: 0s - loss: 0.1207 - acc: 0.9585Epoch 1/30\n",
      "384/47 [=====================================================================================================================================================================================================================================================] - 1s 4ms/sample - loss: 0.4111 - acc: 0.8464\n",
      "\n",
      "Epoch 00019: val_acc did not improve from 0.96354\n",
      "\n",
      "Epoch 00019: ReduceLROnPlateau reducing learning rate to 1.0000000474974514e-05.\n",
      "47/47 [==============================] - 18s 384ms/step - loss: 0.1221 - acc: 0.9580 - val_loss: 0.5085 - val_acc: 0.8464\n",
      "Epoch 20/30\n",
      "46/47 [============================>.] - ETA: 0s - loss: 0.1163 - acc: 0.9598Epoch 1/30\n",
      "384/47 [=====================================================================================================================================================================================================================================================] - 1s 4ms/sample - loss: 0.0963 - acc: 0.9557\n",
      "\n",
      "Epoch 00020: val_acc did not improve from 0.96354\n",
      "47/47 [==============================] - 18s 384ms/step - loss: 0.1162 - acc: 0.9600 - val_loss: 0.1445 - val_acc: 0.9557\n",
      "Epoch 21/30\n",
      "46/47 [============================>.] - ETA: 0s - loss: 0.1296 - acc: 0.9585Epoch 1/30\n",
      "384/47 [=====================================================================================================================================================================================================================================================] - 1s 4ms/sample - loss: 0.0668 - acc: 0.9635\n",
      "\n",
      "Epoch 00021: val_acc did not improve from 0.96354\n",
      "47/47 [==============================] - 18s 384ms/step - loss: 0.1294 - acc: 0.9580 - val_loss: 0.1067 - val_acc: 0.9635\n",
      "Epoch 22/30\n",
      "46/47 [============================>.] - ETA: 0s - loss: 0.1095 - acc: 0.9666Epoch 1/30\n",
      "384/47 [=====================================================================================================================================================================================================================================================] - 1s 4ms/sample - loss: 0.0677 - acc: 0.9635\n",
      "\n",
      "Epoch 00022: val_acc did not improve from 0.96354\n",
      "47/47 [==============================] - 18s 384ms/step - loss: 0.1084 - acc: 0.9673 - val_loss: 0.1018 - val_acc: 0.9635\n",
      "Epoch 23/30\n",
      "46/47 [============================>.] - ETA: 0s - loss: 0.1294 - acc: 0.9579Epoch 1/30\n",
      "384/47 [=====================================================================================================================================================================================================================================================] - 1s 4ms/sample - loss: 0.1267 - acc: 0.9583\n",
      "\n",
      "Epoch 00023: val_acc did not improve from 0.96354\n",
      "47/47 [==============================] - 18s 387ms/step - loss: 0.1303 - acc: 0.9574 - val_loss: 0.1225 - val_acc: 0.9583\n",
      "Epoch 24/30\n",
      "46/47 [============================>.] - ETA: 0s - loss: 0.1176 - acc: 0.9577Epoch 1/30\n",
      "384/47 [=====================================================================================================================================================================================================================================================] - 1s 4ms/sample - loss: 0.1531 - acc: 0.9557\n",
      "\n",
      "Epoch 00024: val_acc did not improve from 0.96354\n",
      "\n",
      "Epoch 00024: ReduceLROnPlateau reducing learning rate to 1.0000000656873453e-06.\n",
      "47/47 [==============================] - 18s 384ms/step - loss: 0.1168 - acc: 0.9579 - val_loss: 0.1393 - val_acc: 0.9557\n",
      "Epoch 25/30\n",
      "46/47 [============================>.] - ETA: 0s - loss: 0.1103 - acc: 0.9654Epoch 1/30\n",
      "384/47 [=====================================================================================================================================================================================================================================================] - 1s 4ms/sample - loss: 0.1472 - acc: 0.9531\n",
      "\n",
      "Epoch 00025: val_acc did not improve from 0.96354\n",
      "47/47 [==============================] - 18s 385ms/step - loss: 0.1105 - acc: 0.9654 - val_loss: 0.1353 - val_acc: 0.9531\n",
      "Epoch 26/30\n",
      "46/47 [============================>.] - ETA: 0s - loss: 0.1211 - acc: 0.9604Epoch 1/30\n",
      "384/47 [=====================================================================================================================================================================================================================================================] - 1s 4ms/sample - loss: 0.1414 - acc: 0.9583\n",
      "\n",
      "Epoch 00026: val_acc did not improve from 0.96354\n",
      "47/47 [==============================] - 18s 384ms/step - loss: 0.1222 - acc: 0.9599 - val_loss: 0.1314 - val_acc: 0.9583\n",
      "Epoch 27/30\n",
      "46/47 [============================>.] - ETA: 0s - loss: 0.1409 - acc: 0.9538Epoch 1/30\n",
      "384/47 [=====================================================================================================================================================================================================================================================] - 1s 4ms/sample - loss: 0.1456 - acc: 0.9531\n",
      "\n",
      "Epoch 00027: val_acc did not improve from 0.96354\n",
      "47/47 [==============================] - 18s 385ms/step - loss: 0.1417 - acc: 0.9535 - val_loss: 0.1342 - val_acc: 0.9531\n",
      "Epoch 28/30\n"
     ]
    },
    {
     "name": "stdout",
     "output_type": "stream",
     "text": [
      "46/47 [============================>.] - ETA: 0s - loss: 0.1219 - acc: 0.9585Epoch 1/30\n",
      "384/47 [=====================================================================================================================================================================================================================================================] - 1s 4ms/sample - loss: 0.1386 - acc: 0.9583\n",
      "\n",
      "Epoch 00028: val_acc did not improve from 0.96354\n",
      "47/47 [==============================] - 18s 384ms/step - loss: 0.1209 - acc: 0.9587 - val_loss: 0.1295 - val_acc: 0.9583\n",
      "Epoch 29/30\n",
      "46/47 [============================>.] - ETA: 0s - loss: 0.1179 - acc: 0.9605Epoch 1/30\n",
      "384/47 [=====================================================================================================================================================================================================================================================] - 1s 4ms/sample - loss: 0.1379 - acc: 0.9583\n",
      "\n",
      "Epoch 00029: val_acc did not improve from 0.96354\n",
      "\n",
      "Epoch 00029: ReduceLROnPlateau reducing learning rate to 1.0000001111620805e-07.\n",
      "47/47 [==============================] - 18s 388ms/step - loss: 0.1168 - acc: 0.9607 - val_loss: 0.1290 - val_acc: 0.9583\n",
      "Epoch 30/30\n",
      "46/47 [============================>.] - ETA: 0s - loss: 0.1138 - acc: 0.9632Epoch 1/30\n",
      "384/47 [=====================================================================================================================================================================================================================================================] - 1s 4ms/sample - loss: 0.1409 - acc: 0.9557\n",
      "\n",
      "Epoch 00030: val_acc did not improve from 0.96354\n",
      "47/47 [==============================] - 18s 384ms/step - loss: 0.1120 - acc: 0.9640 - val_loss: 0.1306 - val_acc: 0.9557\n"
     ]
    }
   ],
   "source": [
    "history = model.fit_generator(\n",
    "                              data_aug,\n",
    "                              steps_per_epoch=len(trainX)// batch_size, # parte inteira da divisão\n",
    "                              validation_data=(testX, testY),\n",
    "                              validation_steps=len(testX) // batch_size,# parte inteira da divisão\n",
    "                              callbacks=callbacks,\n",
    "                              epochs=epoch)\n",
    "\n"
   ]
  },
  {
   "cell_type": "markdown",
   "metadata": {},
   "source": [
    "# ANALISANDO DADOS"
   ]
  },
  {
   "cell_type": "code",
   "execution_count": 48,
   "metadata": {},
   "outputs": [],
   "source": [
    "import matplotlib.pyplot as plt\n",
    "%matplotlib inline"
   ]
  },
  {
   "cell_type": "code",
   "execution_count": 49,
   "metadata": {},
   "outputs": [
    {
     "data": {
      "image/png": "[encoded data removed]",
      "text/plain": [
       "<Figure size 432x288 with 1 Axes>"
      ]
     },
     "metadata": {
      "needs_background": "light"
     },
     "output_type": "display_data"
    },
    {
     "data": {
      "image/png": "[encoded data removed]",
      "text/plain": [
       "<Figure size 432x288 with 1 Axes>"
      ]
     },
     "metadata": {
      "needs_background": "light"
     },
     "output_type": "display_data"
    }
   ],
   "source": [
    "plt.plot(history.history['acc'])\n",
    "plt.plot(history.history['val_acc'])\n",
    "plt.title('model accuracy')\n",
    "plt.ylabel('accuracy')\n",
    "plt.xlabel('epoch')\n",
    "plt.legend(['train', 'test'], loc='upper left')\n",
    "plt.show()\n",
    "# summarize history for loss\n",
    "plt.plot(history.history['loss'])\n",
    "plt.plot(history.history['val_loss'])\n",
    "plt.title('model loss')\n",
    "plt.ylabel('loss')\n",
    "plt.xlabel('epoch')\n",
    "plt.legend(['train', 'test'], loc='upper left')\n",
    "plt.show()"
   ]
  },
  {
   "cell_type": "markdown",
   "metadata": {},
   "source": [
    "## Gerando matriz de confusão"
   ]
  },
  {
   "cell_type": "code",
   "execution_count": 50,
   "metadata": {},
   "outputs": [],
   "source": [
    "from sklearn.metrics import confusion_matrix\n",
    "pred = model.predict(testX)\n",
    "pred = np.argmax(pred,axis = 1) \n",
    "y_true = np.argmax(testY,axis = 1)"
   ]
  },
  {
   "cell_type": "code",
   "execution_count": 51,
   "metadata": {},
   "outputs": [
    {
     "name": "stdout",
     "output_type": "stream",
     "text": [
      "Acurácia: 0.9557\n",
      "Sensitividade: 0.9375\n",
      "Especificidade: 0.9740\n"
     ]
    },
    {
     "data": {
      "image/png": "[encoded data removed]",
      "text/plain": [
       "<Figure size 360x360 with 1 Axes>"
      ]
     },
     "metadata": {
      "needs_background": "light"
     },
     "output_type": "display_data"
    }
   ],
   "source": [
    "cm = confusion_matrix(y_true, pred)\n",
    "total = sum(sum(cm))\n",
    "acc = (cm[0, 0] + cm[1, 1]) / total\n",
    "sensitivity = cm[0, 0] / (cm[0, 0] + cm[0, 1])\n",
    "specificity = cm[1, 1] / (cm[1, 0] + cm[1, 1])\n",
    "\n",
    "print(\"Acurácia: {:.4f}\".format(acc))\n",
    "print(\"Sensitividade: {:.4f}\".format(sensitivity))\n",
    "print(\"Especificidade: {:.4f}\".format(specificity))\n",
    "\n",
    "from mlxtend.plotting import plot_confusion_matrix\n",
    "fig, ax = plot_confusion_matrix(conf_mat=cm ,  figsize=(5, 5))\n",
    "plt.show()"
   ]
  }
 ],
 "metadata": {
  "kernelspec": {
   "display_name": "Python 3",
   "language": "python",
   "name": "python3"
  },
  "language_info": {
   "codemirror_mode": {
    "name": "ipython",
    "version": 3
   },
   "file_extension": ".py",
   "mimetype": "text/x-python",
   "name": "python",
   "nbconvert_exporter": "python",
   "pygments_lexer": "ipython3",
   "version": "3.7.6"
  }
 },
 "nbformat": 4,
 "nbformat_minor": 2
}
